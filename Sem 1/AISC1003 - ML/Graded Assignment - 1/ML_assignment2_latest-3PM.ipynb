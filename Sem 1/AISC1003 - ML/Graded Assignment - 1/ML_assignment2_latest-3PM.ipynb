{
 "cells": [
  {
   "cell_type": "markdown",
   "id": "12408db3",
   "metadata": {},
   "source": [
    "<center><h1> Predicting Length of Stay for Patients </h1></center>"
   ]
  },
  {
   "cell_type": "code",
   "execution_count": 54,
   "id": "b601ad75",
   "metadata": {},
   "outputs": [],
   "source": [
    "# Importing libraries necessary for the modelling\n",
    "import numpy as np\n",
    "import pandas as pd\n",
    "\n",
    "# Visualalization Libraries\n",
    "import seaborn as sns\n",
    "import matplotlib.pyplot as plt\n",
    "\n",
    "# Modelling libraries\n",
    "\n",
    "from sklearn.linear_model import LinearRegression\n",
    "from sklearn.metrics import mean_squared_error,r2_score\n",
    "from sklearn.model_selection import train_test_split\n"
   ]
  },
  {
   "cell_type": "markdown",
   "id": "3314a568",
   "metadata": {},
   "source": [
    "#### Reading the Data"
   ]
  },
  {
   "cell_type": "code",
   "execution_count": 55,
   "id": "b52b51fa",
   "metadata": {},
   "outputs": [
    {
     "data": {
      "text/plain": [
       "(10999, 12)"
      ]
     },
     "execution_count": 55,
     "metadata": {},
     "output_type": "execute_result"
    }
   ],
   "source": [
    "data = pd.read_csv('HealthCareDataSet.csv')\n",
    "data.drop(['Id'],axis=1,inplace = True)       # dropping ID column as no analysis is to be done on this feature\n",
    "data.shape                                    # number of rows and columns in the dataset"
   ]
  },
  {
   "cell_type": "markdown",
   "id": "0a0b1bea",
   "metadata": {},
   "source": [
    "## 1. Data Cleaning"
   ]
  },
  {
   "cell_type": "markdown",
   "id": "0344b963",
   "metadata": {},
   "source": [
    "#### 1.1 Handling Missing values"
   ]
  },
  {
   "cell_type": "code",
   "execution_count": 56,
   "id": "c1042334",
   "metadata": {},
   "outputs": [
    {
     "data": {
      "text/plain": [
       "LengthOfStay                 0\n",
       "ReadmissionCount          5570\n",
       "Gender                       0\n",
       "FacilityId                   0\n",
       "KidneyAilments           10999\n",
       "HeartAilments            10999\n",
       "PyschologicalAilments        0\n",
       "SubstanceAbuseHistory      392\n",
       "BMI                          2\n",
       "ABG                          0\n",
       "Pulse                        2\n",
       "SecondaryDiagnosis         239\n",
       "dtype: int64"
      ]
     },
     "execution_count": 56,
     "metadata": {},
     "output_type": "execute_result"
    }
   ],
   "source": [
    "data.isnull().sum()"
   ]
  },
  {
   "cell_type": "code",
   "execution_count": 57,
   "id": "36204c68",
   "metadata": {},
   "outputs": [
    {
     "data": {
      "text/plain": [
       "SubstanceAbuseHistory\n",
       "No         9080\n",
       "Yes        1517\n",
       "Some          3\n",
       "Slight        3\n",
       "Few           3\n",
       "Unknown       1\n",
       "Name: count, dtype: int64"
      ]
     },
     "execution_count": 57,
     "metadata": {},
     "output_type": "execute_result"
    }
   ],
   "source": [
    "data.SubstanceAbuseHistory.value_counts()"
   ]
  },
  {
   "cell_type": "markdown",
   "id": "ad00a734",
   "metadata": {},
   "source": [
    "- Will replace all missing values with 'unknown'\n",
    "- Combine categories like some, slight and few to 'Yes'"
   ]
  },
  {
   "cell_type": "code",
   "execution_count": 58,
   "id": "7e20c4dd",
   "metadata": {},
   "outputs": [],
   "source": [
    "data['SubstanceAbuseHistory'].replace(to_replace=['Some','Slight','Few'],value='Yes',inplace=True)"
   ]
  },
  {
   "cell_type": "code",
   "execution_count": 59,
   "id": "5f0878bf",
   "metadata": {},
   "outputs": [
    {
     "data": {
      "text/plain": [
       "Series([], Name: count, dtype: int64)"
      ]
     },
     "execution_count": 59,
     "metadata": {},
     "output_type": "execute_result"
    }
   ],
   "source": [
    "data.KidneyAilments.value_counts()"
   ]
  },
  {
   "cell_type": "code",
   "execution_count": 60,
   "id": "dcced9ec",
   "metadata": {},
   "outputs": [
    {
     "data": {
      "text/plain": [
       "Series([], Name: count, dtype: int64)"
      ]
     },
     "execution_count": 60,
     "metadata": {},
     "output_type": "execute_result"
    }
   ],
   "source": [
    "data.HeartAilments.value_counts()"
   ]
  },
  {
   "cell_type": "code",
   "execution_count": 61,
   "id": "c273ad4d",
   "metadata": {},
   "outputs": [
    {
     "data": {
      "text/plain": [
       "ReadmissionCount\n",
       "1.0    2701\n",
       "2.0    1422\n",
       "3.0     736\n",
       "4.0     380\n",
       "5.0     190\n",
       "Name: count, dtype: int64"
      ]
     },
     "execution_count": 61,
     "metadata": {},
     "output_type": "execute_result"
    }
   ],
   "source": [
    "data.ReadmissionCount.value_counts()"
   ]
  },
  {
   "cell_type": "code",
   "execution_count": 62,
   "id": "7cee0cc9",
   "metadata": {},
   "outputs": [
    {
     "data": {
      "text/plain": [
       "SecondaryDiagnosis\n",
       "1.0     4196\n",
       "2.0     2610\n",
       "3.0     1568\n",
       "4.0      946\n",
       "5.0      545\n",
       "6.0      363\n",
       "7.0      221\n",
       "8.0      133\n",
       "0.0       81\n",
       "9.0       59\n",
       "10.0      38\n",
       "Name: count, dtype: int64"
      ]
     },
     "execution_count": 62,
     "metadata": {},
     "output_type": "execute_result"
    }
   ],
   "source": [
    "data.SecondaryDiagnosis.value_counts()"
   ]
  },
  {
   "cell_type": "code",
   "execution_count": 63,
   "id": "7fa0a81d",
   "metadata": {},
   "outputs": [],
   "source": [
    "data.drop(['KidneyAilments','HeartAilments'],axis=1,inplace = True)            # Dropping these columns as all data points are null in this feature\n",
    "data['SubstanceAbuseHistory'] = data['SubstanceAbuseHistory'].fillna('Unknown')     # replacing missing values with existing category - 'Unknown'\n",
    "data['ReadmissionCount'] = data['ReadmissionCount'].fillna(1.0)             # filling up missing data in this column with the MODE\n",
    "data['SecondaryDiagnosis'] = data['SecondaryDiagnosis'].fillna(1.0)             # filling up missing data in this column with the MODE\n",
    "data.drop(['FacilityId'],axis=1,inplace=True)                          # This feature is the ID for every facility, does not provide any info"
   ]
  },
  {
   "cell_type": "code",
   "execution_count": 64,
   "id": "0a4913b1",
   "metadata": {},
   "outputs": [
    {
     "data": {
      "text/plain": [
       "LengthOfStay             0\n",
       "ReadmissionCount         0\n",
       "Gender                   0\n",
       "PyschologicalAilments    0\n",
       "SubstanceAbuseHistory    0\n",
       "BMI                      2\n",
       "ABG                      0\n",
       "Pulse                    2\n",
       "SecondaryDiagnosis       0\n",
       "dtype: int64"
      ]
     },
     "execution_count": 64,
     "metadata": {},
     "output_type": "execute_result"
    }
   ],
   "source": [
    "data.isnull().sum()"
   ]
  },
  {
   "cell_type": "code",
   "execution_count": 65,
   "id": "a5af6781",
   "metadata": {},
   "outputs": [
    {
     "data": {
      "text/html": [
       "<div>\n",
       "<style scoped>\n",
       "    .dataframe tbody tr th:only-of-type {\n",
       "        vertical-align: middle;\n",
       "    }\n",
       "\n",
       "    .dataframe tbody tr th {\n",
       "        vertical-align: top;\n",
       "    }\n",
       "\n",
       "    .dataframe thead th {\n",
       "        text-align: right;\n",
       "    }\n",
       "</style>\n",
       "<table border=\"1\" class=\"dataframe\">\n",
       "  <thead>\n",
       "    <tr style=\"text-align: right;\">\n",
       "      <th></th>\n",
       "      <th>LengthOfStay</th>\n",
       "      <th>ReadmissionCount</th>\n",
       "      <th>BMI</th>\n",
       "      <th>ABG</th>\n",
       "      <th>Pulse</th>\n",
       "      <th>SecondaryDiagnosis</th>\n",
       "    </tr>\n",
       "  </thead>\n",
       "  <tbody>\n",
       "    <tr>\n",
       "      <th>count</th>\n",
       "      <td>10999.000000</td>\n",
       "      <td>10999.000000</td>\n",
       "      <td>10997.000000</td>\n",
       "      <td>10999.000000</td>\n",
       "      <td>10997.000000</td>\n",
       "      <td>10999.000000</td>\n",
       "    </tr>\n",
       "    <tr>\n",
       "      <th>mean</th>\n",
       "      <td>4.554232</td>\n",
       "      <td>1.435858</td>\n",
       "      <td>29.059925</td>\n",
       "      <td>142.644591</td>\n",
       "      <td>77.751023</td>\n",
       "      <td>2.415492</td>\n",
       "    </tr>\n",
       "    <tr>\n",
       "      <th>std</th>\n",
       "      <td>3.302963</td>\n",
       "      <td>0.891275</td>\n",
       "      <td>2.006137</td>\n",
       "      <td>30.329310</td>\n",
       "      <td>18.135555</td>\n",
       "      <td>1.772709</td>\n",
       "    </tr>\n",
       "    <tr>\n",
       "      <th>min</th>\n",
       "      <td>1.000000</td>\n",
       "      <td>1.000000</td>\n",
       "      <td>19.800000</td>\n",
       "      <td>-1.010000</td>\n",
       "      <td>10.000000</td>\n",
       "      <td>0.000000</td>\n",
       "    </tr>\n",
       "    <tr>\n",
       "      <th>25%</th>\n",
       "      <td>2.000000</td>\n",
       "      <td>1.000000</td>\n",
       "      <td>27.700000</td>\n",
       "      <td>123.000000</td>\n",
       "      <td>65.000000</td>\n",
       "      <td>1.000000</td>\n",
       "    </tr>\n",
       "    <tr>\n",
       "      <th>50%</th>\n",
       "      <td>4.000000</td>\n",
       "      <td>1.000000</td>\n",
       "      <td>29.000000</td>\n",
       "      <td>143.000000</td>\n",
       "      <td>78.000000</td>\n",
       "      <td>2.000000</td>\n",
       "    </tr>\n",
       "    <tr>\n",
       "      <th>75%</th>\n",
       "      <td>6.000000</td>\n",
       "      <td>1.000000</td>\n",
       "      <td>30.400000</td>\n",
       "      <td>163.000000</td>\n",
       "      <td>90.000000</td>\n",
       "      <td>3.000000</td>\n",
       "    </tr>\n",
       "    <tr>\n",
       "      <th>max</th>\n",
       "      <td>29.000000</td>\n",
       "      <td>5.000000</td>\n",
       "      <td>36.700000</td>\n",
       "      <td>253.000000</td>\n",
       "      <td>148.000000</td>\n",
       "      <td>10.000000</td>\n",
       "    </tr>\n",
       "  </tbody>\n",
       "</table>\n",
       "</div>"
      ],
      "text/plain": [
       "       LengthOfStay  ReadmissionCount           BMI           ABG  \\\n",
       "count  10999.000000      10999.000000  10997.000000  10999.000000   \n",
       "mean       4.554232          1.435858     29.059925    142.644591   \n",
       "std        3.302963          0.891275      2.006137     30.329310   \n",
       "min        1.000000          1.000000     19.800000     -1.010000   \n",
       "25%        2.000000          1.000000     27.700000    123.000000   \n",
       "50%        4.000000          1.000000     29.000000    143.000000   \n",
       "75%        6.000000          1.000000     30.400000    163.000000   \n",
       "max       29.000000          5.000000     36.700000    253.000000   \n",
       "\n",
       "              Pulse  SecondaryDiagnosis  \n",
       "count  10997.000000        10999.000000  \n",
       "mean      77.751023            2.415492  \n",
       "std       18.135555            1.772709  \n",
       "min       10.000000            0.000000  \n",
       "25%       65.000000            1.000000  \n",
       "50%       78.000000            2.000000  \n",
       "75%       90.000000            3.000000  \n",
       "max      148.000000           10.000000  "
      ]
     },
     "execution_count": 65,
     "metadata": {},
     "output_type": "execute_result"
    }
   ],
   "source": [
    "data.describe()"
   ]
  },
  {
   "cell_type": "code",
   "execution_count": 66,
   "id": "3882d122",
   "metadata": {},
   "outputs": [
    {
     "name": "stdout",
     "output_type": "stream",
     "text": [
      "BMI Skewness:  0.009490073032178605\n",
      "ABG Skewness:  -0.16247525191238377\n",
      "Pulse Skewness:  0.019439814221374058\n"
     ]
    }
   ],
   "source": [
    "print('BMI Skewness: ',data.BMI.skew())\n",
    "print('ABG Skewness: ',data.ABG.skew())\n",
    "print('Pulse Skewness: ',data.Pulse.skew())"
   ]
  },
  {
   "cell_type": "markdown",
   "id": "686f2d1f",
   "metadata": {},
   "source": [
    "- Numerical Features like Length of Stay, BMI, ABG and Pulse have mean very close to the median. This means that the data has very less skewness and for missing data imputation we can use either mean or median.\n",
    "- Readmission count and Secondary Diagnosis and actually categorical data that we will be changing the type of later on\n",
    "- As the skewness for the numerical features are very less we can assume that the data is normal with mean and median having similar values"
   ]
  },
  {
   "cell_type": "code",
   "execution_count": 67,
   "id": "735ec2dc",
   "metadata": {},
   "outputs": [
    {
     "data": {
      "image/png": "[encoded data removed]",
      "text/plain": [
       "<Figure size 640x480 with 1 Axes>"
      ]
     },
     "metadata": {},
     "output_type": "display_data"
    }
   ],
   "source": [
    "plt.hist(data['BMI'],color='#76854E')\n",
    "plt.show()"
   ]
  },
  {
   "cell_type": "code",
   "execution_count": 68,
   "id": "265633cc",
   "metadata": {},
   "outputs": [
    {
     "data": {
      "image/png": "[encoded data removed]",
      "text/plain": [
       "<Figure size 640x480 with 1 Axes>"
      ]
     },
     "metadata": {},
     "output_type": "display_data"
    }
   ],
   "source": [
    "sns.histplot(data['BMI'])\n",
    "plt.title('Distribution for Body Mass Index')\n",
    "plt.show()"
   ]
  },
  {
   "cell_type": "code",
   "execution_count": 69,
   "id": "a8ec9104",
   "metadata": {},
   "outputs": [],
   "source": [
    "# From the chart above we can see that the data is normal. With mean alomost equal to the median\n",
    "data['BMI'] = data['BMI'].fillna(data['BMI'].median())               # filling up missing data points in this numerical feature with the median"
   ]
  },
  {
   "cell_type": "markdown",
   "id": "fa2fcd42",
   "metadata": {},
   "source": [
    "From the distribution plot we see that the data is mostly normal. So, we replace missing values with either mean or median"
   ]
  },
  {
   "cell_type": "code",
   "execution_count": 70,
   "id": "54070535",
   "metadata": {},
   "outputs": [
    {
     "data": {
      "image/png": "[encoded data removed]",
      "text/plain": [
       "<Figure size 640x480 with 1 Axes>"
      ]
     },
     "metadata": {},
     "output_type": "display_data"
    }
   ],
   "source": [
    "plt.hist(data['ABG'],color='grey')\n",
    "plt.show()"
   ]
  },
  {
   "cell_type": "code",
   "execution_count": 71,
   "id": "d74f71a7",
   "metadata": {},
   "outputs": [
    {
     "data": {
      "image/png": "[encoded data removed]",
      "text/plain": [
       "<Figure size 640x480 with 1 Axes>"
      ]
     },
     "metadata": {},
     "output_type": "display_data"
    }
   ],
   "source": [
    "sns.histplot(data['ABG'])\n",
    "plt.title('Distribution for ABG')\n",
    "plt.show()"
   ]
  },
  {
   "cell_type": "code",
   "execution_count": 72,
   "id": "87cc1b87",
   "metadata": {},
   "outputs": [
    {
     "data": {
      "image/png": "[encoded data removed]",
      "text/plain": [
       "<Figure size 640x480 with 1 Axes>"
      ]
     },
     "metadata": {},
     "output_type": "display_data"
    }
   ],
   "source": [
    "plt.hist(data['Pulse'],color='brown')\n",
    "plt.show()"
   ]
  },
  {
   "cell_type": "code",
   "execution_count": 73,
   "id": "f5de0724",
   "metadata": {},
   "outputs": [
    {
     "data": {
      "image/png": "[encoded data removed]",
      "text/plain": [
       "<Figure size 640x480 with 1 Axes>"
      ]
     },
     "metadata": {},
     "output_type": "display_data"
    }
   ],
   "source": [
    "sns.histplot(data['Pulse'])\n",
    "plt.title('Distribution for Pulse')\n",
    "plt.show()"
   ]
  },
  {
   "cell_type": "code",
   "execution_count": 74,
   "id": "317cd34f",
   "metadata": {},
   "outputs": [],
   "source": [
    "# From the chart above we can see that the data is normal. With mean alomost equal to the median\n",
    "data['Pulse'] = data['Pulse'].fillna(data['Pulse'].median())               # filling up missing data points in this numerical feature with the median"
   ]
  },
  {
   "cell_type": "markdown",
   "id": "49f2c1ae",
   "metadata": {},
   "source": [
    "In this distribution plot as well we see that the data is mostly normal. So, we replace missing values with either mean or median"
   ]
  },
  {
   "cell_type": "code",
   "execution_count": 75,
   "id": "839b2c08",
   "metadata": {},
   "outputs": [
    {
     "data": {
      "text/plain": [
       "LengthOfStay             0\n",
       "ReadmissionCount         0\n",
       "Gender                   0\n",
       "PyschologicalAilments    0\n",
       "SubstanceAbuseHistory    0\n",
       "BMI                      0\n",
       "ABG                      0\n",
       "Pulse                    0\n",
       "SecondaryDiagnosis       0\n",
       "dtype: int64"
      ]
     },
     "execution_count": 75,
     "metadata": {},
     "output_type": "execute_result"
    }
   ],
   "source": [
    "data.isnull().sum()           # all missing values have been handled"
   ]
  },
  {
   "cell_type": "markdown",
   "id": "abcf8662",
   "metadata": {},
   "source": [
    "#### 1.2 Handling Feature Data types"
   ]
  },
  {
   "cell_type": "code",
   "execution_count": 76,
   "id": "50160714",
   "metadata": {},
   "outputs": [
    {
     "name": "stdout",
     "output_type": "stream",
     "text": [
      "<class 'pandas.core.frame.DataFrame'>\n",
      "RangeIndex: 10999 entries, 0 to 10998\n",
      "Data columns (total 9 columns):\n",
      " #   Column                 Non-Null Count  Dtype  \n",
      "---  ------                 --------------  -----  \n",
      " 0   LengthOfStay           10999 non-null  int64  \n",
      " 1   ReadmissionCount       10999 non-null  float64\n",
      " 2   Gender                 10999 non-null  object \n",
      " 3   PyschologicalAilments  10999 non-null  bool   \n",
      " 4   SubstanceAbuseHistory  10999 non-null  object \n",
      " 5   BMI                    10999 non-null  float64\n",
      " 6   ABG                    10999 non-null  float64\n",
      " 7   Pulse                  10999 non-null  float64\n",
      " 8   SecondaryDiagnosis     10999 non-null  float64\n",
      "dtypes: bool(1), float64(5), int64(1), object(2)\n",
      "memory usage: 698.3+ KB\n"
     ]
    }
   ],
   "source": [
    "data.info()"
   ]
  },
  {
   "cell_type": "code",
   "execution_count": 77,
   "id": "6830ebcd",
   "metadata": {},
   "outputs": [],
   "source": [
    "data['ReadmissionCount'] = data['ReadmissionCount'].astype('int').astype('object')\n",
    "data['PyschologicalAilments'] = data['PyschologicalAilments'].astype('object')\n",
    "data['SecondaryDiagnosis'] = data['SecondaryDiagnosis'].astype('int').astype('object')"
   ]
  },
  {
   "cell_type": "markdown",
   "id": "58f71039",
   "metadata": {},
   "source": [
    "#### 1.3 Outlier Analysis"
   ]
  },
  {
   "cell_type": "code",
   "execution_count": 78,
   "id": "d71825bf",
   "metadata": {},
   "outputs": [],
   "source": [
    "data.to_csv('HealthCareDataSet_cleaned.csv',index=False)"
   ]
  },
  {
   "cell_type": "code",
   "execution_count": 79,
   "id": "9470f0db",
   "metadata": {},
   "outputs": [
    {
     "data": {
      "image/png": "[encoded data removed]",
      "text/plain": [
       "<Figure size 800x600 with 1 Axes>"
      ]
     },
     "metadata": {},
     "output_type": "display_data"
    }
   ],
   "source": [
    "# Visualizing the Pulse\n",
    "# The outliers are points displayed above and below the upper lower limits\n",
    "\n",
    "plt.figure(figsize=(8, 6))\n",
    "data.boxplot(column='Pulse')\n",
    "plt.title('Box Plot of Pulse Feature to view Outliers')\n",
    "plt.show()\n"
   ]
  },
  {
   "cell_type": "code",
   "execution_count": 80,
   "id": "7c6cfe7e",
   "metadata": {},
   "outputs": [
    {
     "name": "stdout",
     "output_type": "stream",
     "text": [
      "Number of records with BMI outliers are :) 91\n"
     ]
    },
    {
     "data": {
      "text/html": [
       "<div>\n",
       "<style scoped>\n",
       "    .dataframe tbody tr th:only-of-type {\n",
       "        vertical-align: middle;\n",
       "    }\n",
       "\n",
       "    .dataframe tbody tr th {\n",
       "        vertical-align: top;\n",
       "    }\n",
       "\n",
       "    .dataframe thead th {\n",
       "        text-align: right;\n",
       "    }\n",
       "</style>\n",
       "<table border=\"1\" class=\"dataframe\">\n",
       "  <thead>\n",
       "    <tr style=\"text-align: right;\">\n",
       "      <th></th>\n",
       "      <th>LengthOfStay</th>\n",
       "      <th>ReadmissionCount</th>\n",
       "      <th>Gender</th>\n",
       "      <th>PyschologicalAilments</th>\n",
       "      <th>SubstanceAbuseHistory</th>\n",
       "      <th>BMI</th>\n",
       "      <th>ABG</th>\n",
       "      <th>Pulse</th>\n",
       "      <th>SecondaryDiagnosis</th>\n",
       "    </tr>\n",
       "  </thead>\n",
       "  <tbody>\n",
       "    <tr>\n",
       "      <th>259</th>\n",
       "      <td>13</td>\n",
       "      <td>4</td>\n",
       "      <td>M</td>\n",
       "      <td>False</td>\n",
       "      <td>No</td>\n",
       "      <td>29.4</td>\n",
       "      <td>150.0</td>\n",
       "      <td>129.0</td>\n",
       "      <td>5</td>\n",
       "    </tr>\n",
       "    <tr>\n",
       "      <th>296</th>\n",
       "      <td>8</td>\n",
       "      <td>1</td>\n",
       "      <td>F</td>\n",
       "      <td>False</td>\n",
       "      <td>Yes</td>\n",
       "      <td>30.0</td>\n",
       "      <td>190.0</td>\n",
       "      <td>26.0</td>\n",
       "      <td>6</td>\n",
       "    </tr>\n",
       "    <tr>\n",
       "      <th>359</th>\n",
       "      <td>4</td>\n",
       "      <td>1</td>\n",
       "      <td>F</td>\n",
       "      <td>False</td>\n",
       "      <td>No</td>\n",
       "      <td>31.3</td>\n",
       "      <td>128.0</td>\n",
       "      <td>130.0</td>\n",
       "      <td>2</td>\n",
       "    </tr>\n",
       "    <tr>\n",
       "      <th>411</th>\n",
       "      <td>3</td>\n",
       "      <td>1</td>\n",
       "      <td>M</td>\n",
       "      <td>False</td>\n",
       "      <td>No</td>\n",
       "      <td>27.7</td>\n",
       "      <td>134.0</td>\n",
       "      <td>138.0</td>\n",
       "      <td>2</td>\n",
       "    </tr>\n",
       "    <tr>\n",
       "      <th>538</th>\n",
       "      <td>5</td>\n",
       "      <td>1</td>\n",
       "      <td>F</td>\n",
       "      <td>False</td>\n",
       "      <td>No</td>\n",
       "      <td>30.5</td>\n",
       "      <td>145.0</td>\n",
       "      <td>27.0</td>\n",
       "      <td>4</td>\n",
       "    </tr>\n",
       "    <tr>\n",
       "      <th>...</th>\n",
       "      <td>...</td>\n",
       "      <td>...</td>\n",
       "      <td>...</td>\n",
       "      <td>...</td>\n",
       "      <td>...</td>\n",
       "      <td>...</td>\n",
       "      <td>...</td>\n",
       "      <td>...</td>\n",
       "      <td>...</td>\n",
       "    </tr>\n",
       "    <tr>\n",
       "      <th>10145</th>\n",
       "      <td>2</td>\n",
       "      <td>1</td>\n",
       "      <td>M</td>\n",
       "      <td>False</td>\n",
       "      <td>No</td>\n",
       "      <td>29.3</td>\n",
       "      <td>118.0</td>\n",
       "      <td>143.0</td>\n",
       "      <td>1</td>\n",
       "    </tr>\n",
       "    <tr>\n",
       "      <th>10170</th>\n",
       "      <td>2</td>\n",
       "      <td>1</td>\n",
       "      <td>F</td>\n",
       "      <td>False</td>\n",
       "      <td>No</td>\n",
       "      <td>30.5</td>\n",
       "      <td>121.0</td>\n",
       "      <td>134.0</td>\n",
       "      <td>2</td>\n",
       "    </tr>\n",
       "    <tr>\n",
       "      <th>10243</th>\n",
       "      <td>5</td>\n",
       "      <td>1</td>\n",
       "      <td>F</td>\n",
       "      <td>False</td>\n",
       "      <td>No</td>\n",
       "      <td>27.7</td>\n",
       "      <td>124.0</td>\n",
       "      <td>133.0</td>\n",
       "      <td>3</td>\n",
       "    </tr>\n",
       "    <tr>\n",
       "      <th>10282</th>\n",
       "      <td>2</td>\n",
       "      <td>2</td>\n",
       "      <td>F</td>\n",
       "      <td>False</td>\n",
       "      <td>No</td>\n",
       "      <td>32.9</td>\n",
       "      <td>103.0</td>\n",
       "      <td>27.0</td>\n",
       "      <td>1</td>\n",
       "    </tr>\n",
       "    <tr>\n",
       "      <th>10596</th>\n",
       "      <td>6</td>\n",
       "      <td>3</td>\n",
       "      <td>M</td>\n",
       "      <td>False</td>\n",
       "      <td>Unknown</td>\n",
       "      <td>30.1</td>\n",
       "      <td>158.0</td>\n",
       "      <td>23.0</td>\n",
       "      <td>2</td>\n",
       "    </tr>\n",
       "  </tbody>\n",
       "</table>\n",
       "<p>91 rows × 9 columns</p>\n",
       "</div>"
      ],
      "text/plain": [
       "       LengthOfStay ReadmissionCount Gender PyschologicalAilments  \\\n",
       "259              13                4      M                 False   \n",
       "296               8                1      F                 False   \n",
       "359               4                1      F                 False   \n",
       "411               3                1      M                 False   \n",
       "538               5                1      F                 False   \n",
       "...             ...              ...    ...                   ...   \n",
       "10145             2                1      M                 False   \n",
       "10170             2                1      F                 False   \n",
       "10243             5                1      F                 False   \n",
       "10282             2                2      F                 False   \n",
       "10596             6                3      M                 False   \n",
       "\n",
       "      SubstanceAbuseHistory   BMI    ABG  Pulse SecondaryDiagnosis  \n",
       "259                      No  29.4  150.0  129.0                  5  \n",
       "296                     Yes  30.0  190.0   26.0                  6  \n",
       "359                      No  31.3  128.0  130.0                  2  \n",
       "411                      No  27.7  134.0  138.0                  2  \n",
       "538                      No  30.5  145.0   27.0                  4  \n",
       "...                     ...   ...    ...    ...                ...  \n",
       "10145                    No  29.3  118.0  143.0                  1  \n",
       "10170                    No  30.5  121.0  134.0                  2  \n",
       "10243                    No  27.7  124.0  133.0                  3  \n",
       "10282                    No  32.9  103.0   27.0                  1  \n",
       "10596               Unknown  30.1  158.0   23.0                  2  \n",
       "\n",
       "[91 rows x 9 columns]"
      ]
     },
     "execution_count": 80,
     "metadata": {},
     "output_type": "execute_result"
    }
   ],
   "source": [
    "Q1 = data['Pulse'].quantile(0.25)\n",
    "Q3 = data['Pulse'].quantile(0.75)\n",
    "lower_limit = Q1 - 1.5 * (Q3 - Q1)\n",
    "upper_limit = Q3 + 1.5 * (Q3 - Q1)\n",
    "\n",
    "print('Number of records with BMI outliers are :)', data[(data['Pulse'] < lower_limit) | (data['Pulse'] > upper_limit)].shape[0])\n",
    "data[(data['Pulse'] < lower_limit) | (data['Pulse'] > upper_limit)]"
   ]
  },
  {
   "cell_type": "markdown",
   "id": "63907054",
   "metadata": {},
   "source": [
    "- There are 91 records having BMI values that are outliers\n",
    "- Options to consider taking care of the outliers are:<br>\n",
    "        - dropping records<br>\n",
    "        - replace with mean, median <br>\n",
    "        - reaplcing with upper or lower limit values"
   ]
  },
  {
   "cell_type": "code",
   "execution_count": 81,
   "id": "05ba6cb5",
   "metadata": {},
   "outputs": [
    {
     "data": {
      "image/png": "[encoded data removed]",
      "text/plain": [
       "<Figure size 800x600 with 1 Axes>"
      ]
     },
     "metadata": {},
     "output_type": "display_data"
    }
   ],
   "source": [
    "# Visualizing ABG\n",
    "# The outliers are points displayed above and below the upper lower limits\n",
    "\n",
    "plt.figure(figsize=(8, 6))\n",
    "data.boxplot(column='ABG')\n",
    "plt.title('Box Plot of Pulse Feature to view Outliers')\n",
    "plt.show()\n"
   ]
  },
  {
   "cell_type": "code",
   "execution_count": 82,
   "id": "118fa914",
   "metadata": {},
   "outputs": [
    {
     "name": "stdout",
     "output_type": "stream",
     "text": [
      "Number of records with ABG outliers are :) 97\n"
     ]
    },
    {
     "data": {
      "text/html": [
       "<div>\n",
       "<style scoped>\n",
       "    .dataframe tbody tr th:only-of-type {\n",
       "        vertical-align: middle;\n",
       "    }\n",
       "\n",
       "    .dataframe tbody tr th {\n",
       "        vertical-align: top;\n",
       "    }\n",
       "\n",
       "    .dataframe thead th {\n",
       "        text-align: right;\n",
       "    }\n",
       "</style>\n",
       "<table border=\"1\" class=\"dataframe\">\n",
       "  <thead>\n",
       "    <tr style=\"text-align: right;\">\n",
       "      <th></th>\n",
       "      <th>LengthOfStay</th>\n",
       "      <th>ReadmissionCount</th>\n",
       "      <th>Gender</th>\n",
       "      <th>PyschologicalAilments</th>\n",
       "      <th>SubstanceAbuseHistory</th>\n",
       "      <th>BMI</th>\n",
       "      <th>ABG</th>\n",
       "      <th>Pulse</th>\n",
       "      <th>SecondaryDiagnosis</th>\n",
       "    </tr>\n",
       "  </thead>\n",
       "  <tbody>\n",
       "    <tr>\n",
       "      <th>133</th>\n",
       "      <td>9</td>\n",
       "      <td>4</td>\n",
       "      <td>F</td>\n",
       "      <td>False</td>\n",
       "      <td>No</td>\n",
       "      <td>32.5</td>\n",
       "      <td>241.0</td>\n",
       "      <td>88.0</td>\n",
       "      <td>2</td>\n",
       "    </tr>\n",
       "    <tr>\n",
       "      <th>159</th>\n",
       "      <td>1</td>\n",
       "      <td>1</td>\n",
       "      <td>F</td>\n",
       "      <td>False</td>\n",
       "      <td>No</td>\n",
       "      <td>31.3</td>\n",
       "      <td>49.0</td>\n",
       "      <td>83.0</td>\n",
       "      <td>1</td>\n",
       "    </tr>\n",
       "    <tr>\n",
       "      <th>285</th>\n",
       "      <td>8</td>\n",
       "      <td>1</td>\n",
       "      <td>F</td>\n",
       "      <td>False</td>\n",
       "      <td>Yes</td>\n",
       "      <td>29.6</td>\n",
       "      <td>238.0</td>\n",
       "      <td>50.0</td>\n",
       "      <td>4</td>\n",
       "    </tr>\n",
       "    <tr>\n",
       "      <th>362</th>\n",
       "      <td>5</td>\n",
       "      <td>5</td>\n",
       "      <td>F</td>\n",
       "      <td>False</td>\n",
       "      <td>No</td>\n",
       "      <td>29.4</td>\n",
       "      <td>57.0</td>\n",
       "      <td>105.0</td>\n",
       "      <td>1</td>\n",
       "    </tr>\n",
       "    <tr>\n",
       "      <th>428</th>\n",
       "      <td>3</td>\n",
       "      <td>1</td>\n",
       "      <td>M</td>\n",
       "      <td>False</td>\n",
       "      <td>No</td>\n",
       "      <td>28.3</td>\n",
       "      <td>57.0</td>\n",
       "      <td>77.0</td>\n",
       "      <td>3</td>\n",
       "    </tr>\n",
       "    <tr>\n",
       "      <th>...</th>\n",
       "      <td>...</td>\n",
       "      <td>...</td>\n",
       "      <td>...</td>\n",
       "      <td>...</td>\n",
       "      <td>...</td>\n",
       "      <td>...</td>\n",
       "      <td>...</td>\n",
       "      <td>...</td>\n",
       "      <td>...</td>\n",
       "    </tr>\n",
       "    <tr>\n",
       "      <th>10276</th>\n",
       "      <td>2</td>\n",
       "      <td>1</td>\n",
       "      <td>F</td>\n",
       "      <td>False</td>\n",
       "      <td>No</td>\n",
       "      <td>25.5</td>\n",
       "      <td>228.0</td>\n",
       "      <td>66.0</td>\n",
       "      <td>1</td>\n",
       "    </tr>\n",
       "    <tr>\n",
       "      <th>10323</th>\n",
       "      <td>5</td>\n",
       "      <td>1</td>\n",
       "      <td>F</td>\n",
       "      <td>False</td>\n",
       "      <td>No</td>\n",
       "      <td>28.5</td>\n",
       "      <td>46.0</td>\n",
       "      <td>61.0</td>\n",
       "      <td>6</td>\n",
       "    </tr>\n",
       "    <tr>\n",
       "      <th>10707</th>\n",
       "      <td>7</td>\n",
       "      <td>1</td>\n",
       "      <td>M</td>\n",
       "      <td>False</td>\n",
       "      <td>No</td>\n",
       "      <td>30.2</td>\n",
       "      <td>234.0</td>\n",
       "      <td>75.0</td>\n",
       "      <td>3</td>\n",
       "    </tr>\n",
       "    <tr>\n",
       "      <th>10791</th>\n",
       "      <td>6</td>\n",
       "      <td>1</td>\n",
       "      <td>F</td>\n",
       "      <td>False</td>\n",
       "      <td>No</td>\n",
       "      <td>33.0</td>\n",
       "      <td>237.0</td>\n",
       "      <td>82.0</td>\n",
       "      <td>2</td>\n",
       "    </tr>\n",
       "    <tr>\n",
       "      <th>10950</th>\n",
       "      <td>7</td>\n",
       "      <td>1</td>\n",
       "      <td>M</td>\n",
       "      <td>False</td>\n",
       "      <td>No</td>\n",
       "      <td>29.3</td>\n",
       "      <td>237.0</td>\n",
       "      <td>40.0</td>\n",
       "      <td>4</td>\n",
       "    </tr>\n",
       "  </tbody>\n",
       "</table>\n",
       "<p>97 rows × 9 columns</p>\n",
       "</div>"
      ],
      "text/plain": [
       "       LengthOfStay ReadmissionCount Gender PyschologicalAilments  \\\n",
       "133               9                4      F                 False   \n",
       "159               1                1      F                 False   \n",
       "285               8                1      F                 False   \n",
       "362               5                5      F                 False   \n",
       "428               3                1      M                 False   \n",
       "...             ...              ...    ...                   ...   \n",
       "10276             2                1      F                 False   \n",
       "10323             5                1      F                 False   \n",
       "10707             7                1      M                 False   \n",
       "10791             6                1      F                 False   \n",
       "10950             7                1      M                 False   \n",
       "\n",
       "      SubstanceAbuseHistory   BMI    ABG  Pulse SecondaryDiagnosis  \n",
       "133                      No  32.5  241.0   88.0                  2  \n",
       "159                      No  31.3   49.0   83.0                  1  \n",
       "285                     Yes  29.6  238.0   50.0                  4  \n",
       "362                      No  29.4   57.0  105.0                  1  \n",
       "428                      No  28.3   57.0   77.0                  3  \n",
       "...                     ...   ...    ...    ...                ...  \n",
       "10276                    No  25.5  228.0   66.0                  1  \n",
       "10323                    No  28.5   46.0   61.0                  6  \n",
       "10707                    No  30.2  234.0   75.0                  3  \n",
       "10791                    No  33.0  237.0   82.0                  2  \n",
       "10950                    No  29.3  237.0   40.0                  4  \n",
       "\n",
       "[97 rows x 9 columns]"
      ]
     },
     "execution_count": 82,
     "metadata": {},
     "output_type": "execute_result"
    }
   ],
   "source": [
    "Q1 = data['ABG'].quantile(0.25)\n",
    "Q3 = data['ABG'].quantile(0.75)\n",
    "lower_limit = Q1 - 1.5 * (Q3 - Q1)\n",
    "upper_limit = Q3 + 1.5 * (Q3 - Q1)\n",
    "\n",
    "print('Number of records with ABG outliers are :)', data[(data['ABG'] < lower_limit) | (data['ABG'] > upper_limit)].shape[0])\n",
    "data[(data['ABG'] < lower_limit) | (data['ABG'] > upper_limit)]"
   ]
  },
  {
   "cell_type": "code",
   "execution_count": 83,
   "id": "88a03868",
   "metadata": {},
   "outputs": [
    {
     "data": {
      "image/png": "[encoded data removed]",
      "text/plain": [
       "<Figure size 800x600 with 1 Axes>"
      ]
     },
     "metadata": {},
     "output_type": "display_data"
    }
   ],
   "source": [
    "# Visualizing BMI\n",
    "# The outliers are points displayed above and below the upper lower limits\n",
    "\n",
    "plt.figure(figsize=(8, 6))\n",
    "data.boxplot(column='BMI')\n",
    "plt.title('Box Plot of Pulse Feature to view Outliers')\n",
    "plt.show()\n"
   ]
  },
  {
   "cell_type": "code",
   "execution_count": 84,
   "id": "345f249e",
   "metadata": {},
   "outputs": [
    {
     "name": "stdout",
     "output_type": "stream",
     "text": [
      "Number of records with BMI outliers are :) 76\n"
     ]
    },
    {
     "data": {
      "text/html": [
       "<div>\n",
       "<style scoped>\n",
       "    .dataframe tbody tr th:only-of-type {\n",
       "        vertical-align: middle;\n",
       "    }\n",
       "\n",
       "    .dataframe tbody tr th {\n",
       "        vertical-align: top;\n",
       "    }\n",
       "\n",
       "    .dataframe thead th {\n",
       "        text-align: right;\n",
       "    }\n",
       "</style>\n",
       "<table border=\"1\" class=\"dataframe\">\n",
       "  <thead>\n",
       "    <tr style=\"text-align: right;\">\n",
       "      <th></th>\n",
       "      <th>LengthOfStay</th>\n",
       "      <th>ReadmissionCount</th>\n",
       "      <th>Gender</th>\n",
       "      <th>PyschologicalAilments</th>\n",
       "      <th>SubstanceAbuseHistory</th>\n",
       "      <th>BMI</th>\n",
       "      <th>ABG</th>\n",
       "      <th>Pulse</th>\n",
       "      <th>SecondaryDiagnosis</th>\n",
       "    </tr>\n",
       "  </thead>\n",
       "  <tbody>\n",
       "    <tr>\n",
       "      <th>168</th>\n",
       "      <td>5</td>\n",
       "      <td>1</td>\n",
       "      <td>M</td>\n",
       "      <td>False</td>\n",
       "      <td>No</td>\n",
       "      <td>23.6</td>\n",
       "      <td>98.0</td>\n",
       "      <td>87.0</td>\n",
       "      <td>4</td>\n",
       "    </tr>\n",
       "    <tr>\n",
       "      <th>217</th>\n",
       "      <td>3</td>\n",
       "      <td>1</td>\n",
       "      <td>M</td>\n",
       "      <td>False</td>\n",
       "      <td>No</td>\n",
       "      <td>34.9</td>\n",
       "      <td>111.0</td>\n",
       "      <td>86.0</td>\n",
       "      <td>2</td>\n",
       "    </tr>\n",
       "    <tr>\n",
       "      <th>408</th>\n",
       "      <td>5</td>\n",
       "      <td>1</td>\n",
       "      <td>F</td>\n",
       "      <td>False</td>\n",
       "      <td>No</td>\n",
       "      <td>23.4</td>\n",
       "      <td>133.0</td>\n",
       "      <td>97.0</td>\n",
       "      <td>3</td>\n",
       "    </tr>\n",
       "    <tr>\n",
       "      <th>681</th>\n",
       "      <td>1</td>\n",
       "      <td>1</td>\n",
       "      <td>M</td>\n",
       "      <td>False</td>\n",
       "      <td>No</td>\n",
       "      <td>35.3</td>\n",
       "      <td>68.0</td>\n",
       "      <td>83.0</td>\n",
       "      <td>2</td>\n",
       "    </tr>\n",
       "    <tr>\n",
       "      <th>725</th>\n",
       "      <td>2</td>\n",
       "      <td>2</td>\n",
       "      <td>M</td>\n",
       "      <td>False</td>\n",
       "      <td>No</td>\n",
       "      <td>23.4</td>\n",
       "      <td>95.0</td>\n",
       "      <td>66.0</td>\n",
       "      <td>1</td>\n",
       "    </tr>\n",
       "    <tr>\n",
       "      <th>...</th>\n",
       "      <td>...</td>\n",
       "      <td>...</td>\n",
       "      <td>...</td>\n",
       "      <td>...</td>\n",
       "      <td>...</td>\n",
       "      <td>...</td>\n",
       "      <td>...</td>\n",
       "      <td>...</td>\n",
       "      <td>...</td>\n",
       "    </tr>\n",
       "    <tr>\n",
       "      <th>10180</th>\n",
       "      <td>3</td>\n",
       "      <td>1</td>\n",
       "      <td>F</td>\n",
       "      <td>False</td>\n",
       "      <td>Yes</td>\n",
       "      <td>23.1</td>\n",
       "      <td>169.0</td>\n",
       "      <td>101.0</td>\n",
       "      <td>1</td>\n",
       "    </tr>\n",
       "    <tr>\n",
       "      <th>10407</th>\n",
       "      <td>2</td>\n",
       "      <td>1</td>\n",
       "      <td>F</td>\n",
       "      <td>False</td>\n",
       "      <td>No</td>\n",
       "      <td>22.7</td>\n",
       "      <td>138.0</td>\n",
       "      <td>91.0</td>\n",
       "      <td>2</td>\n",
       "    </tr>\n",
       "    <tr>\n",
       "      <th>10412</th>\n",
       "      <td>4</td>\n",
       "      <td>1</td>\n",
       "      <td>M</td>\n",
       "      <td>False</td>\n",
       "      <td>No</td>\n",
       "      <td>23.4</td>\n",
       "      <td>133.0</td>\n",
       "      <td>97.0</td>\n",
       "      <td>2</td>\n",
       "    </tr>\n",
       "    <tr>\n",
       "      <th>10472</th>\n",
       "      <td>1</td>\n",
       "      <td>1</td>\n",
       "      <td>F</td>\n",
       "      <td>False</td>\n",
       "      <td>No</td>\n",
       "      <td>22.2</td>\n",
       "      <td>149.0</td>\n",
       "      <td>64.0</td>\n",
       "      <td>1</td>\n",
       "    </tr>\n",
       "    <tr>\n",
       "      <th>10878</th>\n",
       "      <td>5</td>\n",
       "      <td>3</td>\n",
       "      <td>M</td>\n",
       "      <td>False</td>\n",
       "      <td>No</td>\n",
       "      <td>22.8</td>\n",
       "      <td>159.0</td>\n",
       "      <td>62.0</td>\n",
       "      <td>1</td>\n",
       "    </tr>\n",
       "  </tbody>\n",
       "</table>\n",
       "<p>76 rows × 9 columns</p>\n",
       "</div>"
      ],
      "text/plain": [
       "       LengthOfStay ReadmissionCount Gender PyschologicalAilments  \\\n",
       "168               5                1      M                 False   \n",
       "217               3                1      M                 False   \n",
       "408               5                1      F                 False   \n",
       "681               1                1      M                 False   \n",
       "725               2                2      M                 False   \n",
       "...             ...              ...    ...                   ...   \n",
       "10180             3                1      F                 False   \n",
       "10407             2                1      F                 False   \n",
       "10412             4                1      M                 False   \n",
       "10472             1                1      F                 False   \n",
       "10878             5                3      M                 False   \n",
       "\n",
       "      SubstanceAbuseHistory   BMI    ABG  Pulse SecondaryDiagnosis  \n",
       "168                      No  23.6   98.0   87.0                  4  \n",
       "217                      No  34.9  111.0   86.0                  2  \n",
       "408                      No  23.4  133.0   97.0                  3  \n",
       "681                      No  35.3   68.0   83.0                  2  \n",
       "725                      No  23.4   95.0   66.0                  1  \n",
       "...                     ...   ...    ...    ...                ...  \n",
       "10180                   Yes  23.1  169.0  101.0                  1  \n",
       "10407                    No  22.7  138.0   91.0                  2  \n",
       "10412                    No  23.4  133.0   97.0                  2  \n",
       "10472                    No  22.2  149.0   64.0                  1  \n",
       "10878                    No  22.8  159.0   62.0                  1  \n",
       "\n",
       "[76 rows x 9 columns]"
      ]
     },
     "execution_count": 84,
     "metadata": {},
     "output_type": "execute_result"
    }
   ],
   "source": [
    "Q1 = data['BMI'].quantile(0.25)\n",
    "Q3 = data['BMI'].quantile(0.75)\n",
    "lower_limit = Q1 - 1.5 * (Q3 - Q1)\n",
    "upper_limit = Q3 + 1.5 * (Q3 - Q1)\n",
    "\n",
    "print('Number of records with BMI outliers are :)', data[(data['BMI'] < lower_limit) | (data['BMI'] > upper_limit)].shape[0])\n",
    "data[(data['BMI'] < lower_limit) | (data['BMI'] > upper_limit)]"
   ]
  },
  {
   "cell_type": "code",
   "execution_count": 85,
   "id": "bd288e0f",
   "metadata": {},
   "outputs": [],
   "source": [
    "#### Replace Outliers with Upper and lower limit "
   ]
  },
  {
   "cell_type": "markdown",
   "id": "e202855f",
   "metadata": {},
   "source": [
    "## 2. Exploratory Data Analysis"
   ]
  },
  {
   "cell_type": "code",
   "execution_count": null,
   "id": "8e818063",
   "metadata": {},
   "outputs": [],
   "source": []
  },
  {
   "cell_type": "code",
   "execution_count": 86,
   "id": "dbe7b3cc",
   "metadata": {},
   "outputs": [
    {
     "data": {
      "text/plain": [
       "PyschologicalAilments\n",
       "False    10396\n",
       "True       603\n",
       "Name: count, dtype: int64"
      ]
     },
     "execution_count": 86,
     "metadata": {},
     "output_type": "execute_result"
    }
   ],
   "source": [
    "data.PyschologicalAilments.value_counts()"
   ]
  },
  {
   "cell_type": "code",
   "execution_count": 87,
   "id": "9cefdcb2",
   "metadata": {},
   "outputs": [],
   "source": [
    "data.Gender.replace({'F':1,'M':0},inplace = True)\n",
    "data.PyschologicalAilments.replace({'False':0,'True':1},inplace = True)\n"
   ]
  },
  {
   "cell_type": "code",
   "execution_count": 88,
   "id": "2635ae74",
   "metadata": {},
   "outputs": [
    {
     "data": {
      "image/png": "[encoded data removed]",
      "text/plain": [
       "<Figure size 640x480 with 2 Axes>"
      ]
     },
     "metadata": {},
     "output_type": "display_data"
    }
   ],
   "source": [
    "sns.heatmap(data.select_dtypes(exclude='object').corr(),annot = True)\n",
    "plt.show()"
   ]
  },
  {
   "cell_type": "code",
   "execution_count": 89,
   "id": "5d77c10b",
   "metadata": {},
   "outputs": [
    {
     "ename": "ValueError",
     "evalue": "could not convert string to float: 'No'",
     "output_type": "error",
     "traceback": [
      "\u001b[1;31m---------------------------------------------------------------------------\u001b[0m",
      "\u001b[1;31mValueError\u001b[0m                                Traceback (most recent call last)",
      "\u001b[1;32mc:\\Users\\ArshiaAchar\\Desktop\\AI & DS\\Term1\\ML1\\Graded2\\ML_assignment2.ipynb Cell 49\u001b[0m line \u001b[0;36m1\n\u001b[1;32m----> <a href='vscode-notebook-cell:/c%3A/Users/ArshiaAchar/Desktop/AI%20%26%20DS/Term1/ML1/Graded2/ML_assignment2.ipynb#X66sZmlsZQ%3D%3D?line=0'>1</a>\u001b[0m correlationOfFeatures \u001b[39m=\u001b[39m data\u001b[39m.\u001b[39;49mcorr(numeric_only\u001b[39m=\u001b[39;49m\u001b[39mFalse\u001b[39;49;00m)\n\u001b[0;32m      <a href='vscode-notebook-cell:/c%3A/Users/ArshiaAchar/Desktop/AI%20%26%20DS/Term1/ML1/Graded2/ML_assignment2.ipynb#X66sZmlsZQ%3D%3D?line=1'>2</a>\u001b[0m sns\u001b[39m.\u001b[39mheatmap(data\u001b[39m=\u001b[39mcorrelationOfFeatures, annot\u001b[39m=\u001b[39m\u001b[39mTrue\u001b[39;00m)\n",
      "File \u001b[1;32mc:\\Users\\ArshiaAchar\\anaconda3\\Lib\\site-packages\\pandas\\core\\frame.py:10054\u001b[0m, in \u001b[0;36mDataFrame.corr\u001b[1;34m(self, method, min_periods, numeric_only)\u001b[0m\n\u001b[0;32m  10052\u001b[0m cols \u001b[39m=\u001b[39m data\u001b[39m.\u001b[39mcolumns\n\u001b[0;32m  10053\u001b[0m idx \u001b[39m=\u001b[39m cols\u001b[39m.\u001b[39mcopy()\n\u001b[1;32m> 10054\u001b[0m mat \u001b[39m=\u001b[39m data\u001b[39m.\u001b[39;49mto_numpy(dtype\u001b[39m=\u001b[39;49m\u001b[39mfloat\u001b[39;49m, na_value\u001b[39m=\u001b[39;49mnp\u001b[39m.\u001b[39;49mnan, copy\u001b[39m=\u001b[39;49m\u001b[39mFalse\u001b[39;49;00m)\n\u001b[0;32m  10056\u001b[0m \u001b[39mif\u001b[39;00m method \u001b[39m==\u001b[39m \u001b[39m\"\u001b[39m\u001b[39mpearson\u001b[39m\u001b[39m\"\u001b[39m:\n\u001b[0;32m  10057\u001b[0m     correl \u001b[39m=\u001b[39m libalgos\u001b[39m.\u001b[39mnancorr(mat, minp\u001b[39m=\u001b[39mmin_periods)\n",
      "File \u001b[1;32mc:\\Users\\ArshiaAchar\\anaconda3\\Lib\\site-packages\\pandas\\core\\frame.py:1838\u001b[0m, in \u001b[0;36mDataFrame.to_numpy\u001b[1;34m(self, dtype, copy, na_value)\u001b[0m\n\u001b[0;32m   1836\u001b[0m \u001b[39mif\u001b[39;00m dtype \u001b[39mis\u001b[39;00m \u001b[39mnot\u001b[39;00m \u001b[39mNone\u001b[39;00m:\n\u001b[0;32m   1837\u001b[0m     dtype \u001b[39m=\u001b[39m np\u001b[39m.\u001b[39mdtype(dtype)\n\u001b[1;32m-> 1838\u001b[0m result \u001b[39m=\u001b[39m \u001b[39mself\u001b[39;49m\u001b[39m.\u001b[39;49m_mgr\u001b[39m.\u001b[39;49mas_array(dtype\u001b[39m=\u001b[39;49mdtype, copy\u001b[39m=\u001b[39;49mcopy, na_value\u001b[39m=\u001b[39;49mna_value)\n\u001b[0;32m   1839\u001b[0m \u001b[39mif\u001b[39;00m result\u001b[39m.\u001b[39mdtype \u001b[39mis\u001b[39;00m \u001b[39mnot\u001b[39;00m dtype:\n\u001b[0;32m   1840\u001b[0m     result \u001b[39m=\u001b[39m np\u001b[39m.\u001b[39marray(result, dtype\u001b[39m=\u001b[39mdtype, copy\u001b[39m=\u001b[39m\u001b[39mFalse\u001b[39;00m)\n",
      "File \u001b[1;32mc:\\Users\\ArshiaAchar\\anaconda3\\Lib\\site-packages\\pandas\\core\\internals\\managers.py:1732\u001b[0m, in \u001b[0;36mBlockManager.as_array\u001b[1;34m(self, dtype, copy, na_value)\u001b[0m\n\u001b[0;32m   1730\u001b[0m         arr\u001b[39m.\u001b[39mflags\u001b[39m.\u001b[39mwriteable \u001b[39m=\u001b[39m \u001b[39mFalse\u001b[39;00m\n\u001b[0;32m   1731\u001b[0m \u001b[39melse\u001b[39;00m:\n\u001b[1;32m-> 1732\u001b[0m     arr \u001b[39m=\u001b[39m \u001b[39mself\u001b[39;49m\u001b[39m.\u001b[39;49m_interleave(dtype\u001b[39m=\u001b[39;49mdtype, na_value\u001b[39m=\u001b[39;49mna_value)\n\u001b[0;32m   1733\u001b[0m     \u001b[39m# The underlying data was copied within _interleave, so no need\u001b[39;00m\n\u001b[0;32m   1734\u001b[0m     \u001b[39m# to further copy if copy=True or setting na_value\u001b[39;00m\n\u001b[0;32m   1736\u001b[0m \u001b[39mif\u001b[39;00m na_value \u001b[39mis\u001b[39;00m \u001b[39mnot\u001b[39;00m lib\u001b[39m.\u001b[39mno_default:\n",
      "File \u001b[1;32mc:\\Users\\ArshiaAchar\\anaconda3\\Lib\\site-packages\\pandas\\core\\internals\\managers.py:1794\u001b[0m, in \u001b[0;36mBlockManager._interleave\u001b[1;34m(self, dtype, na_value)\u001b[0m\n\u001b[0;32m   1792\u001b[0m     \u001b[39melse\u001b[39;00m:\n\u001b[0;32m   1793\u001b[0m         arr \u001b[39m=\u001b[39m blk\u001b[39m.\u001b[39mget_values(dtype)\n\u001b[1;32m-> 1794\u001b[0m     result[rl\u001b[39m.\u001b[39;49mindexer] \u001b[39m=\u001b[39m arr\n\u001b[0;32m   1795\u001b[0m     itemmask[rl\u001b[39m.\u001b[39mindexer] \u001b[39m=\u001b[39m \u001b[39m1\u001b[39m\n\u001b[0;32m   1797\u001b[0m \u001b[39mif\u001b[39;00m \u001b[39mnot\u001b[39;00m itemmask\u001b[39m.\u001b[39mall():\n",
      "\u001b[1;31mValueError\u001b[0m: could not convert string to float: 'No'"
     ]
    }
   ],
   "source": [
    "correlationOfFeatures = data.corr(numeric_only=False)\n",
    "sns.heatmap(data=correlationOfFeatures, annot=True)"
   ]
  },
  {
   "cell_type": "markdown",
   "id": "177ec743",
   "metadata": {},
   "source": [
    "## 3. Modelling"
   ]
  },
  {
   "cell_type": "code",
   "execution_count": null,
   "id": "1e319c00",
   "metadata": {},
   "outputs": [],
   "source": []
  },
  {
   "cell_type": "code",
   "execution_count": null,
   "id": "17ce338a",
   "metadata": {},
   "outputs": [],
   "source": []
  },
  {
   "cell_type": "markdown",
   "id": "5baf2875",
   "metadata": {},
   "source": [
    "#### Notes:\n",
    "- Outlier Analysis - Ignore\n",
    "- Correlation Analysis (keep all features)\n",
    "- encode categorical data\n",
    "- Train test split\n",
    "- standard scaler on numerical features\n",
    "- modelling OLS\n",
    "- model evaluation (MSE, R2 squared, accuracy score)\n",
    "\n"
   ]
  }
 ],
 "metadata": {
  "kernelspec": {
   "display_name": "Python 3 (ipykernel)",
   "language": "python",
   "name": "python3"
  },
  "language_info": {
   "codemirror_mode": {
    "name": "ipython",
    "version": 3
   },
   "file_extension": ".py",
   "mimetype": "text/x-python",
   "name": "python",
   "nbconvert_exporter": "python",
   "pygments_lexer": "ipython3",
   "version": "3.11.4"
  }
 },
 "nbformat": 4,
 "nbformat_minor": 5
}
