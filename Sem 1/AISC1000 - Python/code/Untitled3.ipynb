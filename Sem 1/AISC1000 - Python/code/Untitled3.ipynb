{
 "cells": [
  {
   "cell_type": "code",
   "execution_count": 15,
   "id": "66f0ebe9",
   "metadata": {},
   "outputs": [
    {
     "data": {
      "text/plain": [
       "array([[ 0.3 ,  0.3 ,  0.1 ,  0.15,  0.5 ],\n",
       "       [ 0.  ,  0.  ,  1.5 ,  2.5 ,  0.  ],\n",
       "       [-4.  ,  0.  ,  1.  ,  0.  ,  0.  ],\n",
       "       [ 0.  , -4.  ,  0.  ,  1.  ,  0.  ],\n",
       "       [ 1.  ,  1.  ,  0.  ,  0.  , -1.  ]])"
      ]
     },
     "execution_count": 15,
     "metadata": {},
     "output_type": "execute_result"
    }
   ],
   "source": [
    "import numpy as np\n",
    "from scipy.optimize import linprog\n",
    "\n",
    "A = np.array([[0.3, 0.3, 0.1, 0.15, 0.5], \n",
    "              [0, 0, 1.5, 2.5, 0], \n",
    "              [-4, 0, 1, 0, 0],\n",
    "              [0, -4, 0, 1, 0],\n",
    "              [1, 1, 0, 0, -1]])\n",
    "A"
   ]
  },
  {
   "cell_type": "code",
   "execution_count": 19,
   "id": "4d080363",
   "metadata": {},
   "outputs": [
    {
     "data": {
      "text/plain": [
       "array([ 80, 500,   0,   0,   0])"
      ]
     },
     "execution_count": 19,
     "metadata": {},
     "output_type": "execute_result"
    }
   ],
   "source": [
    "b = np.array([80, 500, 0, 0, 0])\n",
    "b"
   ]
  },
  {
   "cell_type": "code",
   "execution_count": 17,
   "id": "3eb3303b",
   "metadata": {},
   "outputs": [],
   "source": [
    "c = np.array([30, 45, 0, 0, 0])"
   ]
  },
  {
   "cell_type": "code",
   "execution_count": 21,
   "id": "b67a70e1",
   "metadata": {},
   "outputs": [
    {
     "data": {
      "text/plain": [
       "       message: Optimization terminated successfully. (HiGHS Status 7: Optimal)\n",
       "       success: True\n",
       "        status: 0\n",
       "           fun: 0.0\n",
       "             x: [ 0.000e+00  0.000e+00  0.000e+00  0.000e+00  0.000e+00]\n",
       "           nit: 0\n",
       "         lower:  residual: [ 0.000e+00  0.000e+00  0.000e+00  0.000e+00\n",
       "                             0.000e+00]\n",
       "                marginals: [ 3.000e+01  4.500e+01  0.000e+00  0.000e+00\n",
       "                             0.000e+00]\n",
       "         upper:  residual: [       inf        inf        inf        inf\n",
       "                                   inf]\n",
       "                marginals: [ 0.000e+00  0.000e+00  0.000e+00  0.000e+00\n",
       "                             0.000e+00]\n",
       "         eqlin:  residual: []\n",
       "                marginals: []\n",
       "       ineqlin:  residual: [ 8.000e+01  5.000e+02  0.000e+00  0.000e+00\n",
       "                             0.000e+00]\n",
       "                marginals: [-0.000e+00 -0.000e+00 -0.000e+00 -0.000e+00\n",
       "                            -0.000e+00]"
      ]
     },
     "execution_count": 21,
     "metadata": {},
     "output_type": "execute_result"
    }
   ],
   "source": [
    "res = linprog(c, A_ub=A, b_ub=b)\n",
    "res"
   ]
  },
  {
   "cell_type": "code",
   "execution_count": 22,
   "id": "22dc36d9",
   "metadata": {},
   "outputs": [
    {
     "name": "stdout",
     "output_type": "stream",
     "text": [
      "Optimal value: 0.0 \n",
      "x values: [0. 0. 0. 0. 0.] \n",
      "Number of iterations performed: 0 \n",
      "Status: Optimization terminated successfully. (HiGHS Status 7: Optimal)\n"
     ]
    }
   ],
   "source": [
    "print('Optimal value:', round(res.fun, ndigits=2),\n",
    "      '\\nx values:', res.x,\n",
    "      '\\nNumber of iterations performed:', res.nit,\n",
    "      '\\nStatus:', res.message)"
   ]
  },
  {
   "cell_type": "code",
   "execution_count": 32,
   "id": "cb545655",
   "metadata": {},
   "outputs": [
    {
     "name": "stdout",
     "output_type": "stream",
     "text": [
      "Number of standard palettes assembled and sold: 0.0\n",
      "Number of extra long palettes assembled and sold: 666.6666666666667\n",
      "Number of standard separators manufactured: 0.0\n",
      "Number of extra long separators manufactured: 0.0\n",
      "Number of cross pieces manufactured: 0.0\n",
      "Optimal profit: $4666.666666666667\n"
     ]
    }
   ],
   "source": [
    "from scipy.optimize import linprog\n",
    "\n",
    " \n",
    "# Coefficients of the objective function\n",
    "c = [-5, -7, 0, 0, 0]\n",
    "\n",
    " \n",
    "# Coefficients of the inequality constraints (left-hand side)\n",
    "A = [[0.25, 0.30, 0, 0, 0], [0.002 * 10, 0.002 * 18, 0.005, 0.007, 0], [0, 0, -1, 0, 0], [0, 0, 0, -1, 0], [0, 0, 0, 0, -1]]\n",
    "b = [200, 40, 0, 0, 0]\n",
    "\n",
    " \n",
    "# Bounds for the variables\n",
    "x1_bounds = (0, None)\n",
    "x2_bounds = (0, None)\n",
    "x3_bounds = (0, None)\n",
    "x4_bounds = (0, None)\n",
    "x5_bounds = (0, None)\n",
    "\n",
    " \n",
    "# Solve the linear programming problem\n",
    "result = linprog(c, A_ub=A, b_ub=b, bounds=[x1_bounds, x2_bounds, x3_bounds, x4_bounds, x5_bounds], method='highs')\n",
    "\n",
    "\n",
    "# Extract the optimal solution\n",
    "x1 = result.x[0]\n",
    "x2 = result.x[1]\n",
    "x3 = result.x[2]\n",
    "x4 = result.x[3]\n",
    "x5 = result.x[4]\n",
    "\n",
    " \n",
    "# Print the optimal solution and profit\n",
    "print(f\"Number of standard palettes assembled and sold: {x1}\")\n",
    "print(f\"Number of extra long palettes assembled and sold: {x2}\")\n",
    "print(f\"Number of standard separators manufactured: {x3}\")\n",
    "print(f\"Number of extra long separators manufactured: {x4}\")\n",
    "print(f\"Number of cross pieces manufactured: {x5}\")\n",
    "print(f\"Optimal profit: ${-result.fun}\")"
   ]
  },
  {
   "cell_type": "code",
   "execution_count": 29,
   "id": "5e6b311c",
   "metadata": {
    "scrolled": true
   },
   "outputs": [
    {
     "name": "stdout",
     "output_type": "stream",
     "text": [
      "Number of model A tables assembled and sold: 0.0\n",
      "Number of model B tables assembled and sold: 160.0\n",
      "Number of short legs manufactured: 0.0\n",
      "Number of long legs manufactured: 0.0\n"
     ]
    }
   ],
   "source": [
    "from scipy.optimize import linprog\n",
    "\n",
    " \n",
    "\n",
    "# Coefficients of the objective function\n",
    "c = [-30, -45, 0, 0, 0]\n",
    "\n",
    " \n",
    "\n",
    "# Coefficients of the inequality constraints (left-hand side)\n",
    "A = [[0.10, 0.15, 0, 0, 0], [0.50, 0.50, 0, 0, 0], [0, 0, -1, 0, 0], [0, 0, 0, -1, 0], [0, 0, 0, 0, -1], [-1, 0, 0, 0, 1], [0, -1, 0, 0, 1]]\n",
    "b = [80, 80, 0, 0, 0, 0, 0]\n",
    "\n",
    " \n",
    "\n",
    "# Bounds for the variables\n",
    "x_bounds = (0, None)\n",
    "y_bounds = (0, None)\n",
    "z_bounds = (0, None)\n",
    "w_bounds = (0, None)\n",
    "v_bounds = (0, None)\n",
    "\n",
    " \n",
    "\n",
    "# Solve the linear programming problem\n",
    "result = linprog(c, A_ub=A, b_ub=b, bounds=[x_bounds, y_bounds, z_bounds, w_bounds, v_bounds], method='highs')\n",
    "\n",
    " \n",
    "\n",
    "# Extract the optimal solution\n",
    "x1 = result.x[0]\n",
    "x2 = result.x[1]\n",
    "x3 = result.x[2]\n",
    "x4 = result.x[3]\n",
    "x5 = result.x[4]\n",
    "\n",
    " \n",
    "\n",
    "# Print the optimal solution and profit\n",
    "print(f\"Number of model A tables assembled and sold: {x1}\")\n",
    "print(f\"Number of model B tables assembled and sold: {x2}\")\n",
    "print(f\"Number of short legs manufactured: {x3}\")\n",
    "print(f\"Number of long legs manufactured: {x4}\")"
   ]
  },
  {
   "cell_type": "code",
   "execution_count": 42,
   "id": "88cb21bf",
   "metadata": {},
   "outputs": [
    {
     "name": "stdout",
     "output_type": "stream",
     "text": [
      "Optimal Plan:\n",
      "Number of model A tables assembled and sold (x1): 27.777777777777782\n",
      "Number of model B tables assembled and sold (x2): 0.0\n",
      "Maximized Profit: $833.33\n",
      "Number of model B tables assembled and sold (x3): 0.0\n",
      "Number of model B tables assembled and sold (x4): 0.0\n",
      "Number of model B tables assembled and sold (x5): 0.0\n",
      "Maximized Profit: $833.33\n"
     ]
    },
    {
     "name": "stderr",
     "output_type": "stream",
     "text": [
      "C:\\Users\\user\\AppData\\Local\\Temp\\ipykernel_13824\\3390872244.py:19: DeprecationWarning: `method='simplex'` is deprecated and will be removed in SciPy 1.11.0. Please use one of the HiGHS solvers (e.g. `method='highs'`) in new code.\n",
      "  res = linprog(c, A_ub=A, b_ub=b, bounds=bounds, method=\"simplex\")\n"
     ]
    }
   ],
   "source": [
    "from scipy.optimize import linprog\n",
    "\n",
    "# Coefficients of the objective function to maximize (profit)\n",
    "c = [-30, -45, 0, 0, 0]  # Minimize -30x1 - 45x2 (negative sign because linprog minimizes)\n",
    "\n",
    "# Coefficients of the inequality constraints (Ax <= b)\n",
    "A = [\n",
    "    [0.10, 0.15, 0.50, 0.30, 0],  # Labor Hour Constraint\n",
    "    [18, 30, 0, 0, 0]  # Leg Stock Constraint\n",
    "]\n",
    "\n",
    "b = [80, 500]  # Right-hand side values for the constraints\n",
    "\n",
    "# Bounds for the decision variables (x1, x2, x3, x4, x5)\n",
    "x_bounds = [(0, None), (0, None), (0, None), (0, None), (0, None)]\n",
    "\n",
    "# Define a custom LP solver function\n",
    "res = linprog(c, A_ub=A, b_ub=b, bounds=x_bounds, method=\"highs\")\n",
    "\n",
    "\n",
    "# Solve the LP problem using the custom function\n",
    "x_optimal, profit = custom_linprog(c, A, b, x_bounds)\n",
    "\n",
    "# Extract the results\n",
    "x1_optimal, x2_optimal, x3_optimal, x4_optimal, x5_optimal = x_optimal\n",
    "\n",
    "print(\"Optimal Plan:\")\n",
    "print(f\"Number of model A tables assembled and sold (x1): {x1_optimal}\")\n",
    "print(f\"Number of model B tables assembled and sold (x2): {x2_optimal}\")\n",
    "print(f\"Maximized Profit: ${profit:.2f}\")\n",
    "\n",
    "print(f\"Number of model B tables assembled and sold (x3): {x3_optimal}\")\n",
    "print(f\"Number of model B tables assembled and sold (x4): {x4_optimal}\")\n",
    "print(f\"Number of model B tables assembled and sold (x5): {x5_optimal}\")\n",
    "print(f\"Maximized Profit: ${profit:.2f}\")\n"
   ]
  },
  {
   "cell_type": "code",
   "execution_count": 43,
   "id": "1b69db39",
   "metadata": {},
   "outputs": [
    {
     "name": "stdout",
     "output_type": "stream",
     "text": [
      "Optimal number of standard palettes (x1): 0.00\n",
      "Optimal number of extralong palettes (x2): 666.67\n",
      "Optimal number of standard separators (x3): 0.00\n",
      "Optimal number of extralong separators (x4): 2000.00\n",
      "Optimal number of cross pieces (x5): 6000.00\n",
      "Maximum Profit: $4666.67\n"
     ]
    },
    {
     "name": "stderr",
     "output_type": "stream",
     "text": [
      "C:\\Users\\user\\AppData\\Local\\Temp\\ipykernel_13824\\1780006558.py:29: DeprecationWarning: `method='simplex'` is deprecated and will be removed in SciPy 1.11.0. Please use one of the HiGHS solvers (e.g. `method='highs'`) in new code.\n",
      "  result = linprog(c, A_ub=A, b_ub=b, bounds=x_bounds, method='simplex')\n"
     ]
    }
   ],
   "source": [
    "from scipy.optimize import linprog\n",
    "\n",
    "c = [-5, -7, 0, 0, 0]\n",
    "\n",
    "A = [\n",
    "\n",
    "  [0.25, 0.30, 0, 0, 0],\n",
    "\n",
    "  [0.005, 0.007, 0.002, 0, 0],\n",
    "\n",
    "  [-3, 0, 1, 0, 0],\n",
    "\n",
    "  [0, -3, 0, 1, 0],\n",
    "\n",
    "  [-5, -9, 0, 0, 1]\n",
    "\n",
    "]\n",
    "\n",
    " \n",
    "\n",
    " \n",
    "\n",
    "b = [200, 40, 0, 0, 0]\n",
    "\n",
    " \n",
    "\n",
    "x_bounds = [(0, None), (0, None), (0, None), (0, None), (0, None)]\n",
    "\n",
    "result = linprog(c, A_ub=A, b_ub=b, bounds=x_bounds, method='simplex')\n",
    "\n",
    "x1, x2, x3, x4, x5 = result.x\n",
    "\n",
    "max_profit = -result.fun\n",
    "\n",
    " \n",
    "\n",
    "print(f\"Optimal number of standard palettes (x1): {x1:.2f}\")\n",
    "\n",
    "print(f\"Optimal number of extralong palettes (x2): {x2:.2f}\")\n",
    "\n",
    "print(f\"Optimal number of standard separators (x3): {x3:.2f}\")\n",
    "\n",
    "print(f\"Optimal number of extralong separators (x4): {x4:.2f}\")\n",
    "\n",
    "print(f\"Optimal number of cross pieces (x5): {x5:.2f}\")\n",
    "\n",
    "print(f\"Maximum Profit: ${max_profit:.2f}\")"
   ]
  },
  {
   "cell_type": "code",
   "execution_count": 46,
   "id": "3afd8d06",
   "metadata": {},
   "outputs": [
    {
     "name": "stdout",
     "output_type": "stream",
     "text": [
      "Value of x1: 27.78\n",
      "Value of x2: 33.33\n",
      "Value of x3: 111.11\n",
      "Value of x4: 133.33\n",
      "Value of x5: 61.11\n",
      "Maximum Profit: $2333.33\n"
     ]
    },
    {
     "name": "stderr",
     "output_type": "stream",
     "text": [
      "C:\\Users\\user\\AppData\\Local\\Temp\\ipykernel_13824\\161096036.py:14: DeprecationWarning: `method='simplex'` is deprecated and will be removed in SciPy 1.11.0. Please use one of the HiGHS solvers (e.g. `method='highs'`) in new code.\n",
      "  result              = linprog(objective, A_ub=lhs_ineq, b_ub=rhs_ineq, bounds=x_values, method='simplex')\n"
     ]
    }
   ],
   "source": [
    "from scipy.optimize import linprog\n",
    "\n",
    "# Matrix relating to constraints derieved\n",
    "lhs_ineq            = [[0.30, 0.30, 0.10, 0.15, 0.50], [0, 0, 1.5, 2.5, 0], [4, 0, -1, 0, 0], [0, 4, 0, -1, 0], [1, 1, 0, 0, -1]]\n",
    "\n",
    "# RHS of contraints \n",
    "rhs_ineq            = [80, 500, 0, 0, 0]\n",
    "\n",
    "# Objective Function\n",
    "objective           = [-30, -45, 0, 0, 0]\n",
    "\n",
    "x_values            = [(0, None), (0, None), (0, None), (0, None), (0, None)]\n",
    "\n",
    "result              = linprog(objective, A_ub=lhs_ineq, b_ub=rhs_ineq, bounds=x_values, method='simplex')\n",
    "x1, x2, x3, x4, x5  = result.x\n",
    "max_profit          = -result.fun\n",
    "\n",
    "print(f\"Value of x1: {x1:.2f}\")\n",
    "print(f\"Value of x2: {x2:.2f}\")\n",
    "print(f\"Value of x3: {x3:.2f}\")\n",
    "print(f\"Value of x4: {x4:.2f}\")\n",
    "print(f\"Value of x5: {x5:.2f}\")\n",
    "print(f\"Maximum Profit: ${max_profit:.2f}\")"
   ]
  },
  {
   "cell_type": "code",
   "execution_count": 49,
   "id": "c790cc2c",
   "metadata": {},
   "outputs": [
    {
     "name": "stdout",
     "output_type": "stream",
     "text": [
      "Optimal number of standard palettes (x1): 0.00\n",
      "Optimal number of extralong palettes (x2): 666.67\n",
      "Optimal number of standard separators (x3): 0.00\n",
      "Optimal number of extralong separators (x4): 2000.00\n",
      "Optimal number of cross pieces (x5): 12000.00\n",
      "Maximum Profit: $4666.67\n"
     ]
    },
    {
     "name": "stderr",
     "output_type": "stream",
     "text": [
      "C:\\Users\\user\\AppData\\Local\\Temp\\ipykernel_13824\\1847612107.py:15: DeprecationWarning: `method='simplex'` is deprecated and will be removed in SciPy 1.11.0. Please use one of the HiGHS solvers (e.g. `method='highs'`) in new code.\n",
      "  result = linprog(c, A_ub=A, b_ub=b, bounds=x_bounds, method='simplex')\n"
     ]
    }
   ],
   "source": [
    "from scipy.optimize import linprog\n",
    "c = [-5, -7, 0, 0, 0]\n",
    "A = [\n",
    "  [0.25, 0.30, 0, 0, 0],\n",
    "  [0.005, 0.007, 0.002, 0, 0],\n",
    "  [-3, 0, 1, 0, 0],\n",
    "  [0, -3, 0, 1, 0],\n",
    "  [0, -18, 0, 0, 1]\n",
    "]\n",
    " \n",
    " \n",
    "b = [200, 40, 0, 0, 0]\n",
    " \n",
    "x_bounds = [(0, None), (0, None), (0, None), (0, None), (0, None)]\n",
    "result = linprog(c, A_ub=A, b_ub=b, bounds=x_bounds, method='simplex')\n",
    "x1, x2, x3, x4, x5 = result.x\n",
    "max_profit = -result.fun\n",
    " \n",
    "print(f\"Optimal number of standard palettes (x1): {x1:.2f}\")\n",
    "print(f\"Optimal number of extralong palettes (x2): {x2:.2f}\")\n",
    "print(f\"Optimal number of standard separators (x3): {x3:.2f}\")\n",
    "print(f\"Optimal number of extralong separators (x4): {x4:.2f}\")\n",
    "print(f\"Optimal number of cross pieces (x5): {x5:.2f}\")\n",
    "print(f\"Maximum Profit: ${max_profit:.2f}\")\n"
   ]
  },
  {
   "cell_type": "code",
   "execution_count": null,
   "id": "8c95003f",
   "metadata": {},
   "outputs": [],
   "source": []
  }
 ],
 "metadata": {
  "kernelspec": {
   "display_name": "Python 3 (ipykernel)",
   "language": "python",
   "name": "python3"
  },
  "language_info": {
   "codemirror_mode": {
    "name": "ipython",
    "version": 3
   },
   "file_extension": ".py",
   "mimetype": "text/x-python",
   "name": "python",
   "nbconvert_exporter": "python",
   "pygments_lexer": "ipython3",
   "version": "3.11.4"
  }
 },
 "nbformat": 4,
 "nbformat_minor": 5
}
